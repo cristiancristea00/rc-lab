{
 "cells": [
  {
   "cell_type": "code",
   "execution_count": null,
   "metadata": {},
   "outputs": [],
   "source": [
    "from pynq import Overlay, allocate\n",
    "from time import perf_counter_ns\n",
    "import matplotlib.pyplot as plt\n",
    "import numpy as np\n",
    "import cv2 as cv"
   ]
  },
  {
   "cell_type": "code",
   "execution_count": null,
   "metadata": {},
   "outputs": [],
   "source": [
    "overlay = Overlay('lcs.bit')\n",
    "lcs_ip = overlay.lcs"
   ]
  },
  {
   "cell_type": "code",
   "execution_count": null,
   "metadata": {},
   "outputs": [],
   "source": [
    "CONTROL = 0x00\n",
    "IMAGE_OUT = 0x10\n",
    "IMAGE_IN = 0x18\n",
    "IMAGE_LENGTH = 0x20\n",
    "LOW_THRESHOLD = 0x28\n",
    "HIGH_THRESHOLD = 0x30\n",
    "LOW_NEW_THRESHOLD = 0x38\n",
    "HIGH_NEW_THRESHOLD = 0x40\n",
    "MAX_VALUE = 0x48"
   ]
  },
  {
   "cell_type": "code",
   "execution_count": null,
   "metadata": {},
   "outputs": [],
   "source": [
    "image_path = 'lena.tif'\n",
    "image = cv.cvtColor(cv.imread(image_path), cv.COLOR_BGR2RGB)\n",
    "\n",
    "plt.axis('off')\n",
    "plt.imshow(image)"
   ]
  },
  {
   "cell_type": "code",
   "execution_count": null,
   "metadata": {},
   "outputs": [],
   "source": [
    "grey_image = cv.cvtColor(image, cv.COLOR_RGB2GRAY)\n",
    "\n",
    "plt.axis('off')\n",
    "plt.imshow(grey_image, cmap='gray')"
   ]
  },
  {
   "cell_type": "code",
   "execution_count": null,
   "metadata": {},
   "outputs": [],
   "source": [
    "flat_image = grey_image.flatten().astype(np.uint32)"
   ]
  },
  {
   "cell_type": "code",
   "execution_count": null,
   "metadata": {},
   "outputs": [],
   "source": [
    "image_in = allocate(shape=flat_image.shape, dtype=np.uint32, cacheable=0)\n",
    "image_out = allocate(shape=flat_image.shape, dtype=np.uint32, cacheable=0)"
   ]
  },
  {
   "cell_type": "code",
   "execution_count": null,
   "metadata": {},
   "outputs": [],
   "source": [
    "image_in[:] = flat_image\n",
    "\n",
    "lcs_ip.write(IMAGE_IN, image_in.physical_address)\n",
    "lcs_ip.write(IMAGE_OUT, image_out.physical_address)\n",
    "\n",
    "lcs_ip.write(IMAGE_LENGTH, flat_image.size)\n",
    "lcs_ip.write(LOW_THRESHOLD, 140)\n",
    "lcs_ip.write(HIGH_THRESHOLD, 200)\n",
    "lcs_ip.write(LOW_NEW_THRESHOLD, 70)\n",
    "lcs_ip.write(HIGH_NEW_THRESHOLD, 230)\n",
    "lcs_ip.write(MAX_VALUE, 255)"
   ]
  },
  {
   "cell_type": "code",
   "execution_count": null,
   "metadata": {},
   "outputs": [],
   "source": [
    "start = perf_counter_ns()\n",
    "\n",
    "lcs_ip.write(CONTROL, 1 << 0)\n",
    "while lcs_ip.read(CONTROL) != (1 << 2):\n",
    "    pass\n",
    "\n",
    "stop = perf_counter_ns()\n",
    "\n",
    "print(F'Elapsed time: {(stop - start) / 1e6} ms')"
   ]
  },
  {
   "cell_type": "code",
   "execution_count": null,
   "metadata": {},
   "outputs": [],
   "source": [
    "processed_flat_image = image_out\n",
    "\n",
    "processed_image = processed_flat_image.reshape(grey_image.shape).astype(np.uint8)\n",
    "\n",
    "plt.axis('off')\n",
    "plt.imshow(processed_image, cmap='gray')"
   ]
  }
 ],
 "metadata": {
  "kernelspec": {
   "display_name": "BASE",
   "language": "python",
   "name": "python3"
  },
  "language_info": {
   "codemirror_mode": {
    "name": "ipython",
    "version": 3
   },
   "file_extension": ".py",
   "mimetype": "text/x-python",
   "name": "python",
   "nbconvert_exporter": "python",
   "pygments_lexer": "ipython3",
   "version": "3.12.2"
  }
 },
 "nbformat": 4,
 "nbformat_minor": 2
}
